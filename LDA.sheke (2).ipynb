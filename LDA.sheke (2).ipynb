{
 "cells": [
  {
   "cell_type": "code",
   "execution_count": 1,
   "metadata": {},
   "outputs": [],
   "source": [
    "import pandas as pd\n",
    "import numpy as np\n",
    "import matplotlib.pyplot as plt\n",
    "import seaborn as sen  #python数据可视化"
   ]
  },
  {
   "cell_type": "code",
   "execution_count": 2,
   "metadata": {
    "scrolled": true
   },
   "outputs": [
    {
     "data": {
      "text/html": [
       "<div>\n",
       "<style scoped>\n",
       "    .dataframe tbody tr th:only-of-type {\n",
       "        vertical-align: middle;\n",
       "    }\n",
       "\n",
       "    .dataframe tbody tr th {\n",
       "        vertical-align: top;\n",
       "    }\n",
       "\n",
       "    .dataframe thead th {\n",
       "        text-align: right;\n",
       "    }\n",
       "</style>\n",
       "<table border=\"1\" class=\"dataframe\">\n",
       "  <thead>\n",
       "    <tr style=\"text-align: right;\">\n",
       "      <th></th>\n",
       "      <th>id</th>\n",
       "      <th>comment</th>\n",
       "    </tr>\n",
       "  </thead>\n",
       "  <tbody>\n",
       "    <tr>\n",
       "      <th>0</th>\n",
       "      <td>1</td>\n",
       "      <td>介绍了本体的概念、本体在学术研究领域的作用,以及基于本体技术应用系统的设计原则.并通过对O...</td>\n",
       "    </tr>\n",
       "    <tr>\n",
       "      <th>1</th>\n",
       "      <td>2</td>\n",
       "      <td>\"互联网+\"时代,档案工作中产生的大量信息数据破碎孤立,无法建立用户与数据的联系。因此,档案...</td>\n",
       "    </tr>\n",
       "    <tr>\n",
       "      <th>2</th>\n",
       "      <td>3</td>\n",
       "      <td>(雍正)《渭南县志》15卷,清岳冠华纂修,传世本为雍正十年(1732)刻本。此志是陕西渭南历...</td>\n",
       "    </tr>\n",
       "    <tr>\n",
       "      <th>3</th>\n",
       "      <td>4</td>\n",
       "      <td>近二十年来,西部地区少数民族古籍工作得到了很大发展。西部各地区的出版社、古籍办、大专院校及...</td>\n",
       "    </tr>\n",
       "    <tr>\n",
       "      <th>4</th>\n",
       "      <td>5</td>\n",
       "      <td>\"互联网+\"时代,红色档案资源的价值内涵需要全新阐释,呈现形式需要与时俱进,传播渠道需要全面...</td>\n",
       "    </tr>\n",
       "    <tr>\n",
       "      <th>...</th>\n",
       "      <td>...</td>\n",
       "      <td>...</td>\n",
       "    </tr>\n",
       "    <tr>\n",
       "      <th>14497</th>\n",
       "      <td>14498</td>\n",
       "      <td>作者是知识创造的源泉,在科学交流系统中占据主导地位。本文对作者之间相互引用构成的知识网络中存...</td>\n",
       "    </tr>\n",
       "    <tr>\n",
       "      <th>14498</th>\n",
       "      <td>14499</td>\n",
       "      <td>作者通过分析研究我国数据库评价的相关文章(以CNKI收录为检索范围),从数据库的评价主体、评...</td>\n",
       "    </tr>\n",
       "    <tr>\n",
       "      <th>14499</th>\n",
       "      <td>14500</td>\n",
       "      <td>作者以图书情报圈子里的32个博客为例,选取博文数、总访问数、热度值、程度中心度、中介中心度等...</td>\n",
       "    </tr>\n",
       "    <tr>\n",
       "      <th>14500</th>\n",
       "      <td>14501</td>\n",
       "      <td>作者综述了2000-2010年间的近20项相关性判据实证研究。从研究内容来看,这些研究主要涉...</td>\n",
       "    </tr>\n",
       "    <tr>\n",
       "      <th>14501</th>\n",
       "      <td>14502</td>\n",
       "      <td>做好网络信息归档工作具有重要的社会意义。国内外的网络信息归档保存研究对信息筛选关注不够,而且...</td>\n",
       "    </tr>\n",
       "  </tbody>\n",
       "</table>\n",
       "<p>14502 rows × 2 columns</p>\n",
       "</div>"
      ],
      "text/plain": [
       "          id                                            comment\n",
       "0          1  　介绍了本体的概念、本体在学术研究领域的作用,以及基于本体技术应用系统的设计原则.并通过对O...\n",
       "1          2  \"互联网+\"时代,档案工作中产生的大量信息数据破碎孤立,无法建立用户与数据的联系。因此,档案...\n",
       "2          3  (雍正)《渭南县志》15卷,清岳冠华纂修,传世本为雍正十年(1732)刻本。此志是陕西渭南历...\n",
       "3          4  　近二十年来,西部地区少数民族古籍工作得到了很大发展。西部各地区的出版社、古籍办、大专院校及...\n",
       "4          5  \"互联网+\"时代,红色档案资源的价值内涵需要全新阐释,呈现形式需要与时俱进,传播渠道需要全面...\n",
       "...      ...                                                ...\n",
       "14497  14498  作者是知识创造的源泉,在科学交流系统中占据主导地位。本文对作者之间相互引用构成的知识网络中存...\n",
       "14498  14499  作者通过分析研究我国数据库评价的相关文章(以CNKI收录为检索范围),从数据库的评价主体、评...\n",
       "14499  14500  作者以图书情报圈子里的32个博客为例,选取博文数、总访问数、热度值、程度中心度、中介中心度等...\n",
       "14500  14501  作者综述了2000-2010年间的近20项相关性判据实证研究。从研究内容来看,这些研究主要涉...\n",
       "14501  14502  做好网络信息归档工作具有重要的社会意义。国内外的网络信息归档保存研究对信息筛选关注不够,而且...\n",
       "\n",
       "[14502 rows x 2 columns]"
      ]
     },
     "execution_count": 2,
     "metadata": {},
     "output_type": "execute_result"
    }
   ],
   "source": [
    "df=pd.read_excel(r'C:\\Users\\MSI1\\Desktop\\data.csv')\n",
    "df"
   ]
  },
  {
   "cell_type": "code",
   "execution_count": 3,
   "metadata": {},
   "outputs": [
    {
     "data": {
      "text/plain": [
       "论文以CNKI为数据来源,对\"十二五\"期间(2011-2015年)我国图书馆界大数据研究领域发表的期刊论文进行文献计量分析,从描述性特征和内容特征两个角度来探测我国图书馆界大数据的研究现状和讨论热点,结果显示,该领域研究成果呈持续增长趋势,研究视角多样化,但研究机构分散,核心期刊载文量低,\"高校图书馆\"\"信息服务\"\"数字图书馆\"\"数据挖掘\"是目前的研究热点,研究内容主要涉及\"服务\"\"技术\"\"资源\"\"影响和应用\"四个领域,偏重理论探讨,缺少实践和应用研究。                                                                                                                                                                           1\n",
       "藏羌彝走廊同时存在多种民族文化,其中,藏族、羌族、彝族医药古老而独具特色。文章以医学人类学视野,从环境、社会、心理及文化等方面,探索该走廊中藏、羌、彝医药对健康和疾病独特的认知,并对其文化特色进行研究,有利于在保护藏羌彝走廊地区生态和文化多样性、促进地区经济发展的前提下,保障藏羌彝走廊民族医药可持续协调发展。                                                                                                                                                                                                                                                     1\n",
       "人力资本理论认为,收入水平的高低与文化水平具有密切关系,提升人力资本可以增加劳动者收入。本文以甘肃省农民收入与其文化水平关系的具体实例,对上述结论进行了检验,结论符合甘肃实际。由此提出农家书屋为农民通过自学提高文化素质,进而提高收入水平,提供了一条现实的可行的路径。多渠道解决好农家书屋管理员报酬问题,能充分发挥农家书屋的作用,提高农民文化素质,并提高农民收入。                                                                                                                                                                                                                           1\n",
       "在简要分析开放数据运动及其政策工具价值与发展状况的基础上,从两个方面证明档案数据开放正成为学术与实践的新发展路径,其一是对档案开放与档案数据研究进行文献分析,其二是展示档案信息公开理论与实践的新趋势。并基于政策框架结构的一般构成分析,挖掘数据开放政策的内涵与研究动向以及国外档案数据开放政策的基本架构,试图构建我国档案数据开放政策的框架结构与核心要素。                                                                                                                                                                                                                                1\n",
       "京剧非遗项目保护单位是京剧档案工作最直接的相关主体之一。本文以非遗项目保护单位为考察视角,以最具有代表性的京剧非遗项目单位为例,从收集、整理、保存以及开发利用四个方面详细分析了京剧档案工作的现状,讨论了其存在的问题,并以开放合作为思路提供了具体的建议。                                                                                                                                                                                                                                                                                  1\n",
       "                                                                                                                                                                                                                                                                                                                                                                                                               ..\n",
       "[目的 /意义]未成年人互联网利用行为的形成过程相较于成年人而言更具复杂性和特殊性,探寻其形成原因有助于提升未成年人数字素养、引导其互联网利用行为良性发展并避免未成年人群体中新数字贫困的生成。[方法 /过程]在扎根理论研究方法论指导下,对中国中部、东部、北部、南部、西部城乡共20个田野点展开以访谈为主的田野调查,借助三级编码分析方法,对未成年人互联网利用的行为、行为的影响因素构成和作用机制进行扎根理论分析。[结果 /结论]人际网络、媒介空间和技术资本是未成年人互联网利用行为的外在客观动因,个体资本则是未成年人互联网利用行为的内在主观动因;初中阶段以前的未成年人互联网利用行为首先受到人际网络中父母、老师和家庭成员的影响,而初中阶段以后的未成年人互联网利用行为则首先受到个体资本和同学/朋友/他人的影响。未成年人互联网利用行为的小世界是由利用行为和影响因素共同构成并受年龄影响的动态空间。    1\n",
       "本文梳理清末民初日本图书馆学传入中国的四个阶段:洋务运动时期国人对日本图书馆的考察,维新变法时期日文\"図書館\"一词的传入,清末新政时期日本图书馆学论著的翻译与介绍,以及民国初年对日本图书馆学的研究。日本图书馆学的传入对中国图书馆学和图书馆事业的发展起到一定的促进作用,主要表现在:\"图书馆\"一词逐渐被官方认可并广泛使用;图书馆学研究由译著发展为国人自己撰写论著,理论体系日臻完善;\"东洋式之图书馆\"影响了当时中国图书馆的建设和管理。                                                                                                                                                                                        1\n",
       "[目的/意义]调查研究并借鉴国际研究型图书馆最新战略规划，归纳其规律特征，为我国研究型图书馆制定“十四五”战略规划和“中长期”规划提供参考，促进我国研究型图书馆在信息化与数字化环境下的转型升级。[方法/过程]详细分析美国国立医学图书馆、美国国会图书馆、伦敦大学学院图书馆战略规划文本内容，按照核心发展、特色发展两个角度探讨国际重要研究型图书馆的战略目标、发展定位、发展路径，并提出未来图书馆战略规划框架——“人-物-事”三合一模式。[结果/结论]国际研究型图书馆积极应对信息环境及用户需求的新变化，前瞻性布局促进自身转型升级。我国应结合实际，借鉴其先进经验，坚持以用户为中心，注重馆员培养及技术发展，关注资源体系建设，支持开放科学活动，重视知识服务建设，强化智库功能应用，从而推动研究型图书馆可持续、高质量发展。                                            1\n",
       "首先从理论上阐述了网络社群的内涵、特征以及构建网络社群的必要性,并对目前网络社群构建存在的问题以及国内外的研究现状进行了分析,然后分别利用肯达尔等级相关分析法和欧几里得距离公式探究了基于Tag的网络社群构建的算法,并利用豆瓣网中的实例数据验证了相关算法的可行性。                                                                                                                                                                                                                                                                             1\n",
       "构建一套基于科学—技术交叉模型的创新前沿识别方法体系方法,从科学与技术交叉处内容挖掘的角度描绘全球创新前沿图谱及其交叉结构。采用基于专利的ESI高被引论文共被引聚类、基于论文的OECD三方专利耦合聚类两条路径表征创新前沿。以临床医学领域为例做了实证研究。基于科学与技术交叉模型识别创新前沿具有可行性,也适应了大科学时代和新科技革命进程中科学技术化和技术科学化的总体趋势。                                                                                                                                                                                                                       1\n",
       "Name: comment, Length: 14502, dtype: int64"
      ]
     },
     "execution_count": 3,
     "metadata": {},
     "output_type": "execute_result"
    }
   ],
   "source": [
    "data=df['comment'].value_counts()    #查看表格某列中有多少个不同值，并计算每个不同值由多少个重复值\n",
    "data"
   ]
  },
  {
   "cell_type": "markdown",
   "metadata": {},
   "source": [
    "# LDA主题分析"
   ]
  },
  {
   "cell_type": "code",
   "execution_count": 4,
   "metadata": {},
   "outputs": [
    {
     "name": "stdout",
     "output_type": "stream",
     "text": [
      "Requirement already satisfied: gensim in c:\\users\\msi1\\anaconda3\\lib\\site-packages (3.8.3)\n",
      "Requirement already satisfied: smart-open>=1.8.1 in c:\\users\\msi1\\anaconda3\\lib\\site-packages (from gensim) (2.2.0)\n",
      "Requirement already satisfied: six>=1.5.0 in c:\\users\\msi1\\anaconda3\\lib\\site-packages (from gensim) (1.14.0)\n",
      "Requirement already satisfied: Cython==0.29.14 in c:\\users\\msi1\\anaconda3\\lib\\site-packages (from gensim) (0.29.14)\n",
      "Requirement already satisfied: numpy>=1.11.3 in c:\\users\\msi1\\anaconda3\\lib\\site-packages (from gensim) (1.18.1)\n",
      "Requirement already satisfied: scipy>=0.18.1 in c:\\users\\msi1\\anaconda3\\lib\\site-packages (from gensim) (1.4.1)\n",
      "Requirement already satisfied: requests in c:\\users\\msi1\\anaconda3\\lib\\site-packages (from smart-open>=1.8.1->gensim) (2.22.0)\n",
      "Requirement already satisfied: chardet<3.1.0,>=3.0.2 in c:\\users\\msi1\\anaconda3\\lib\\site-packages (from requests->smart-open>=1.8.1->gensim) (3.0.4)\n",
      "Requirement already satisfied: certifi>=2017.4.17 in c:\\users\\msi1\\anaconda3\\lib\\site-packages (from requests->smart-open>=1.8.1->gensim) (2019.11.28)\n",
      "Requirement already satisfied: urllib3!=1.25.0,!=1.25.1,<1.26,>=1.21.1 in c:\\users\\msi1\\anaconda3\\lib\\site-packages (from requests->smart-open>=1.8.1->gensim) (1.25.8)\n",
      "Requirement already satisfied: idna<2.9,>=2.5 in c:\\users\\msi1\\anaconda3\\lib\\site-packages (from requests->smart-open>=1.8.1->gensim) (2.8)\n",
      "Note: you may need to restart the kernel to use updated packages.\n"
     ]
    }
   ],
   "source": [
    "pip install gensim "
   ]
  },
  {
   "cell_type": "code",
   "execution_count": 5,
   "metadata": {},
   "outputs": [
    {
     "name": "stdout",
     "output_type": "stream",
     "text": [
      "Requirement already satisfied: jieba in c:\\users\\msi1\\anaconda3\\lib\\site-packages (0.42.1)\n",
      "Note: you may need to restart the kernel to use updated packages.\n"
     ]
    }
   ],
   "source": [
    "pip install jieba"
   ]
  },
  {
   "cell_type": "code",
   "execution_count": 6,
   "metadata": {},
   "outputs": [],
   "source": [
    "content=[]\n",
    "for i in df['comment']:\n",
    "    content.append(i) "
   ]
  },
  {
   "cell_type": "code",
   "execution_count": 7,
   "metadata": {},
   "outputs": [
    {
     "name": "stdout",
     "output_type": "stream",
     "text": [
      "Requirement already up-to-date: scikit-learn in c:\\users\\msi1\\anaconda3\\lib\\site-packages (0.23.2)\n",
      "Requirement already satisfied, skipping upgrade: threadpoolctl>=2.0.0 in c:\\users\\msi1\\anaconda3\\lib\\site-packages (from scikit-learn) (2.1.0)\n",
      "Requirement already satisfied, skipping upgrade: scipy>=0.19.1 in c:\\users\\msi1\\anaconda3\\lib\\site-packages (from scikit-learn) (1.4.1)\n",
      "Requirement already satisfied, skipping upgrade: joblib>=0.11 in c:\\users\\msi1\\anaconda3\\lib\\site-packages (from scikit-learn) (0.14.1)\n",
      "Requirement already satisfied, skipping upgrade: numpy>=1.13.3 in c:\\users\\msi1\\anaconda3\\lib\\site-packages (from scikit-learn) (1.18.1)\n",
      "Note: you may need to restart the kernel to use updated packages.\n"
     ]
    }
   ],
   "source": [
    " pip install -U scikit-learn"
   ]
  },
  {
   "cell_type": "code",
   "execution_count": 8,
   "metadata": {},
   "outputs": [
    {
     "name": "stderr",
     "output_type": "stream",
     "text": [
      "Building prefix dict from the default dictionary ...\n",
      "Loading model from cache C:\\Users\\MSI1\\AppData\\Local\\Temp\\jieba.cache\n",
      "Loading model cost 0.581 seconds.\n",
      "Prefix dict has been built successfully.\n"
     ]
    },
    {
     "name": "stdout",
     "output_type": "stream",
     "text": [
      "(0, '0.016*\"信息\" + 0.016*\"知识\" + 0.014*\"图书馆\" + 0.011*\"进行\" + 0.007*\"资源\" + 0.007*\"数据\" + 0.007*\"提出\" + 0.007*\"方法\" + 0.006*\"用户\" + 0.005*\"档案\" + 0.005*\"网络\" + 0.005*\"文献\" + 0.005*\"模型\" + 0.005*\"构建\" + 0.005*\"问题\" + 0.005*\"技术\" + 0.005*\"方面\" + 0.005*\"文化\" + 0.005*\"理论\" + 0.004*\"基础\"')\n",
      "(array([[27.8637  ],\n",
      "       [72.79451 ],\n",
      "       [57.528656],\n",
      "       ...,\n",
      "       [51.97374 ],\n",
      "       [34.9737  ],\n",
      "       [46.98449 ]], dtype=float32), None)\n",
      "208.90862328848308\n",
      "(0, '0.023*\"知识\" + 0.023*\"信息\" + 0.014*\"进行\" + 0.010*\"数据\" + 0.009*\"方法\" + 0.008*\"用户\" + 0.008*\"提出\" + 0.008*\"网络\" + 0.008*\"模型\" + 0.007*\"资源\" + 0.007*\"构建\" + 0.006*\"评价\" + 0.006*\"技术\" + 0.005*\"理论\" + 0.005*\"领域\" + 0.005*\"基础\" + 0.005*\"企业\" + 0.005*\"问题\" + 0.005*\"相关\" + 0.005*\"创新\"')\n",
      "(1, '0.033*\"图书馆\" + 0.015*\"档案\" + 0.013*\"文化\" + 0.009*\"中国\" + 0.008*\"资源\" + 0.007*\"阅读\" + 0.007*\"文献\" + 0.006*\"社会\" + 0.006*\"进行\" + 0.006*\"方面\" + 0.006*\"数字\" + 0.005*\"问题\" + 0.005*\"提出\" + 0.005*\"文章\" + 0.004*\"保护\" + 0.004*\"价值\" + 0.004*\"内容\" + 0.004*\"有\" + 0.004*\"提供\" + 0.004*\"存在\"')\n",
      "(array([[25.324371  ,  2.407361  ],\n",
      "       [53.603542  , 19.088327  ],\n",
      "       [ 0.63148725, 56.65611   ],\n",
      "       ...,\n",
      "       [51.385536  ,  0.59408706],\n",
      "       [34.392166  ,  0.5876238 ],\n",
      "       [46.0342    ,  0.9492705 ]], dtype=float32), None)\n",
      "196.15158942949762\n",
      "(0, '0.022*\"知识\" + 0.014*\"图书馆\" + 0.013*\"数据\" + 0.012*\"文献\" + 0.011*\"进行\" + 0.009*\"中国\" + 0.008*\"评价\" + 0.008*\"方法\" + 0.007*\"文化\" + 0.007*\"领域\" + 0.006*\"方面\" + 0.005*\"政策\" + 0.005*\"学科\" + 0.005*\"相关\" + 0.005*\"文章\" + 0.005*\"专利\" + 0.005*\"提出\" + 0.004*\"问题\" + 0.004*\"出版\" + 0.004*\"转移\"')\n",
      "(1, '0.032*\"信息\" + 0.019*\"图书馆\" + 0.016*\"知识\" + 0.012*\"用户\" + 0.012*\"资源\" + 0.011*\"进行\" + 0.009*\"网络\" + 0.009*\"提出\" + 0.008*\"企业\" + 0.007*\"创新\" + 0.007*\"模型\" + 0.007*\"构建\" + 0.007*\"阅读\" + 0.007*\"技术\" + 0.007*\"模式\" + 0.006*\"组织\" + 0.006*\"理论\" + 0.006*\"系统\" + 0.006*\"问题\" + 0.006*\"数字\"')\n",
      "(2, '0.020*\"档案\" + 0.012*\"方法\" + 0.011*\"进行\" + 0.009*\"语义\" + 0.009*\"模型\" + 0.008*\"算法\" + 0.007*\"提出\" + 0.006*\"分类\" + 0.006*\"本体\" + 0.006*\"主题\" + 0.005*\"利用\" + 0.005*\"数据\" + 0.005*\"文件\" + 0.005*\"问题\" + 0.005*\"实现\" + 0.004*\"文档\" + 0.004*\"构建\" + 0.004*\"有\" + 0.004*\"关系\" + 0.004*\"词\"')\n",
      "(array([[ 5.6405864 , 10.293047  , 11.751495  ],\n",
      "       [24.347475  , 41.06731   ,  7.093909  ],\n",
      "       [51.757977  ,  0.36883608,  3.849469  ],\n",
      "       ...,\n",
      "       [36.73112   ,  8.399999  ,  6.8380604 ],\n",
      "       [ 4.0453167 , 30.513315  ,  0.41765073],\n",
      "       [ 8.89741   , 37.702644  ,  0.37992814]], dtype=float32), None)\n",
      "194.8305018827808\n",
      "(0, '0.045*\"知识\" + 0.018*\"方法\" + 0.013*\"进行\" + 0.012*\"语义\" + 0.011*\"模型\" + 0.010*\"算法\" + 0.009*\"转移\" + 0.009*\"网络\" + 0.008*\"领域\" + 0.008*\"关系\" + 0.008*\"提出\" + 0.008*\"分类\" + 0.007*\"主题\" + 0.007*\"本体\" + 0.006*\"构建\" + 0.006*\"舆情\" + 0.005*\"文本\" + 0.005*\"利用\" + 0.005*\"关联\" + 0.005*\"特征\"')\n",
      "(1, '0.029*\"图书馆\" + 0.028*\"信息\" + 0.022*\"知识\" + 0.013*\"资源\" + 0.011*\"进行\" + 0.009*\"用户\" + 0.009*\"阅读\" + 0.009*\"技术\" + 0.008*\"提出\" + 0.007*\"创新\" + 0.007*\"企业\" + 0.007*\"网络\" + 0.007*\"模式\" + 0.007*\"组织\" + 0.007*\"构建\" + 0.007*\"数字\" + 0.007*\"理论\" + 0.006*\"方面\" + 0.006*\"数据\" + 0.006*\"提供\"')\n",
      "(2, '0.015*\"数据\" + 0.014*\"政府\" + 0.013*\"进行\" + 0.013*\"信息\" + 0.010*\"评价\" + 0.010*\"文献\" + 0.009*\"政策\" + 0.008*\"开放\" + 0.007*\"方法\" + 0.007*\"主题\" + 0.007*\"期刊\" + 0.007*\"提出\" + 0.006*\"指标\" + 0.006*\"相关\" + 0.006*\"领域\" + 0.006*\"中国\" + 0.005*\"问题\" + 0.005*\"利用\" + 0.005*\"学科\" + 0.005*\"科学\"')\n",
      "(3, '0.025*\"档案\" + 0.015*\"文化\" + 0.010*\"中国\" + 0.008*\"社会\" + 0.008*\"进行\" + 0.007*\"文献\" + 0.007*\"保护\" + 0.006*\"有\" + 0.005*\"价值\" + 0.005*\"历史\" + 0.005*\"问题\" + 0.005*\"提出\" + 0.005*\"治理\" + 0.005*\"模型\" + 0.004*\"方面\" + 0.004*\"数据\" + 0.004*\"民族\" + 0.004*\"方法\" + 0.004*\"具有\" + 0.004*\"用户\"')\n",
      "(array([[10.944478  , 16.009533  ,  0.25776187,  0.2658291 ],\n",
      "       [ 1.0710833 , 45.66701   ,  0.27043006, 25.236376  ],\n",
      "       [ 0.26776046,  0.25820076,  0.2743864 , 54.071915  ],\n",
      "       ...,\n",
      "       [12.355718  ,  0.2668147 , 39.10046   ,  0.25892246],\n",
      "       [ 1.980687  ,  0.26430586, 32.46979   ,  0.26110125],\n",
      "       [ 0.26362145, 46.191532  ,  0.26479974,  0.26738745]],\n",
      "      dtype=float32), None)\n",
      "193.68281323284202\n",
      "(0, '0.015*\"文化\" + 0.014*\"技术\" + 0.011*\"进行\" + 0.011*\"专利\" + 0.011*\"方法\" + 0.009*\"数字\" + 0.008*\"信息\" + 0.007*\"提出\" + 0.007*\"政策\" + 0.007*\"资源\" + 0.007*\"领域\" + 0.007*\"文献\" + 0.007*\"保护\" + 0.006*\"情报\" + 0.006*\"问题\" + 0.006*\"网络\" + 0.005*\"系统\" + 0.005*\"理论\" + 0.005*\"方面\" + 0.005*\"产业\"')\n",
      "(1, '0.049*\"图书馆\" + 0.023*\"档案\" + 0.014*\"用户\" + 0.013*\"阅读\" + 0.008*\"进行\" + 0.008*\"文化\" + 0.008*\"行为\" + 0.007*\"高校\" + 0.007*\"信息\" + 0.007*\"社会\" + 0.006*\"方面\" + 0.006*\"有\" + 0.005*\"提供\" + 0.005*\"内容\" + 0.005*\"文章\" + 0.005*\"提出\" + 0.005*\"价值\" + 0.005*\"资源\" + 0.005*\"使用\" + 0.004*\"利用\"')\n",
      "(2, '0.017*\"知识\" + 0.016*\"文献\" + 0.015*\"进行\" + 0.013*\"中国\" + 0.011*\"领域\" + 0.009*\"方法\" + 0.009*\"图书馆\" + 0.009*\"学科\" + 0.009*\"主题\" + 0.009*\"出版\" + 0.007*\"关系\" + 0.006*\"智库\" + 0.006*\"数据\" + 0.006*\"阅读\" + 0.006*\"相关\" + 0.006*\"方面\" + 0.005*\"网络\" + 0.005*\"语义\" + 0.005*\"关联\" + 0.005*\"文章\"')\n",
      "(3, '0.039*\"知识\" + 0.038*\"信息\" + 0.015*\"数据\" + 0.012*\"资源\" + 0.011*\"进行\" + 0.011*\"提出\" + 0.010*\"企业\" + 0.010*\"政府\" + 0.009*\"构建\" + 0.009*\"模型\" + 0.009*\"创新\" + 0.008*\"组织\" + 0.008*\"模式\" + 0.007*\"用户\" + 0.007*\"共享\" + 0.007*\"网络\" + 0.007*\"问题\" + 0.006*\"转移\" + 0.006*\"基础\" + 0.006*\"理论\"')\n",
      "(4, '0.042*\"评价\" + 0.022*\"指标\" + 0.013*\"方法\" + 0.013*\"模型\" + 0.013*\"进行\" + 0.012*\"网络\" + 0.011*\"舆情\" + 0.007*\"期刊\" + 0.006*\"情感\" + 0.006*\"结果\" + 0.006*\"指标体系\" + 0.006*\"算法\" + 0.006*\"影响力\" + 0.005*\"特征\" + 0.005*\"计算\" + 0.004*\"信息\" + 0.004*\"事件\" + 0.004*\"主题\" + 0.004*\"构建\" + 0.004*\"提出\"')\n",
      "(array([[26.667688  ,  0.20293751,  0.20466244,  0.20397094,  0.20125528],\n",
      "       [ 1.7175884 , 23.395954  ,  0.20437923, 46.519352  ,  0.20191652],\n",
      "       [ 0.2026569 , 37.09023   , 15.920926  ,  0.2015085 ,  0.20300575],\n",
      "       ...,\n",
      "       [ 0.20646366,  0.20707248, 12.651115  ,  0.2034565 , 38.719116  ],\n",
      "       [ 0.20539196,  0.20568603,  7.748223  ,  0.20740214, 26.621798  ],\n",
      "       [ 0.2065743 , 19.592375  ,  3.892215  , 23.081945  ,  0.20642875]],\n",
      "      dtype=float32), None)\n",
      "199.98666146690772\n",
      "(0, '0.026*\"文献\" + 0.022*\"文化\" + 0.016*\"主题\" + 0.013*\"进行\" + 0.012*\"学科\" + 0.010*\"领域\" + 0.008*\"方法\" + 0.008*\"分布\" + 0.008*\"中国\" + 0.007*\"档案\" + 0.006*\"相关\" + 0.006*\"内容\" + 0.006*\"知识\" + 0.005*\"用户\" + 0.005*\"机构\" + 0.005*\"民族\" + 0.005*\"文档\" + 0.005*\"利用\" + 0.005*\"方面\" + 0.005*\"情感\"')\n",
      "(1, '0.022*\"资源\" + 0.022*\"数字\" + 0.009*\"模式\" + 0.008*\"信息\" + 0.008*\"进行\" + 0.007*\"科技\" + 0.007*\"档案学\" + 0.007*\"资本\" + 0.006*\"系统\" + 0.006*\"地区\" + 0.006*\"项目\" + 0.005*\"提出\" + 0.005*\"口述\" + 0.005*\"文献\" + 0.005*\"知识\" + 0.005*\"方式\" + 0.005*\"提供\" + 0.005*\"人文\" + 0.005*\"实现\" + 0.005*\"教学\"')\n",
      "(2, '0.100*\"图书馆\" + 0.023*\"阅读\" + 0.014*\"高校\" + 0.012*\"出版\" + 0.011*\"数字\" + 0.008*\"文化\" + 0.007*\"产业\" + 0.007*\"进行\" + 0.007*\"方面\" + 0.007*\"推广\" + 0.007*\"提出\" + 0.007*\"空间\" + 0.006*\"文章\" + 0.006*\"问题\" + 0.006*\"版权\" + 0.006*\"读者\" + 0.005*\"模式\" + 0.005*\"内容\" + 0.005*\"开展\" + 0.005*\"事业\"')\n",
      "(3, '0.050*\"知识\" + 0.033*\"信息\" + 0.018*\"用户\" + 0.015*\"网络\" + 0.013*\"企业\" + 0.012*\"进行\" + 0.010*\"理论\" + 0.010*\"创新\" + 0.010*\"模型\" + 0.009*\"构建\" + 0.009*\"提出\" + 0.009*\"组织\" + 0.008*\"行为\" + 0.008*\"因素\" + 0.008*\"转移\" + 0.008*\"图书馆\" + 0.007*\"基础\" + 0.006*\"能力\" + 0.006*\"过程\" + 0.006*\"模式\"')\n",
      "(4, '0.023*\"档案\" + 0.017*\"信息\" + 0.015*\"资源\" + 0.011*\"中国\" + 0.010*\"政府\" + 0.009*\"社会\" + 0.009*\"保护\" + 0.008*\"问题\" + 0.007*\"方面\" + 0.006*\"制度\" + 0.006*\"进行\" + 0.006*\"文化\" + 0.005*\"国家\" + 0.005*\"提出\" + 0.005*\"存在\" + 0.005*\"有\" + 0.005*\"历史\" + 0.005*\"机制\" + 0.004*\"体系\" + 0.004*\"文章\"')\n",
      "(5, '0.023*\"数据\" + 0.018*\"进行\" + 0.017*\"方法\" + 0.015*\"评价\" + 0.014*\"信息\" + 0.011*\"技术\" + 0.010*\"模型\" + 0.009*\"提出\" + 0.009*\"领域\" + 0.009*\"知识\" + 0.008*\"专利\" + 0.007*\"应用\" + 0.007*\"语义\" + 0.007*\"构建\" + 0.007*\"指标\" + 0.006*\"关联\" + 0.006*\"算法\" + 0.006*\"关系\" + 0.006*\"利用\" + 0.005*\"问题\"')\n",
      "(array([[ 0.16772035,  0.1679685 ,  0.16783956,  0.16803059,  4.8171325 ,\n",
      "        21.720242  ],\n",
      "       [ 0.1676845 ,  0.16786787,  0.16810733, 22.284452  , 18.582151  ,\n",
      "        30.743038  ],\n",
      "       [ 0.16825154,  0.16737713,  0.1672682 ,  0.16733238, 38.65276   ,\n",
      "        13.855625  ],\n",
      "       ...,\n",
      "       [15.860021  ,  0.167686  ,  0.16750975,  0.16770868,  0.16758406,\n",
      "        35.40511   ],\n",
      "       [ 0.16906232, 13.997005  ,  0.16731042, 12.684048  ,  0.16753706,\n",
      "         7.796454  ],\n",
      "       [ 0.16860849,  0.16771533,  0.16762054, 24.599556  , 21.71651   ,\n",
      "         0.16863035]], dtype=float32), None)\n",
      "205.5907451805871\n",
      "(0, '0.042*\"信息\" + 0.025*\"用户\" + 0.020*\"评价\" + 0.018*\"模型\" + 0.018*\"进行\" + 0.016*\"网络\" + 0.013*\"行为\" + 0.010*\"因素\" + 0.010*\"方法\" + 0.010*\"指标\" + 0.008*\"构建\" + 0.008*\"提出\" + 0.007*\"理论\" + 0.006*\"使用\" + 0.005*\"关系\" + 0.005*\"相关\" + 0.005*\"利用\" + 0.005*\"特征\" + 0.005*\"基础\" + 0.005*\"质量\"')\n",
      "(1, '0.018*\"数据\" + 0.017*\"图书馆\" + 0.016*\"进行\" + 0.016*\"阅读\" + 0.015*\"资源\" + 0.014*\"领域\" + 0.014*\"文献\" + 0.012*\"方法\" + 0.011*\"数字\" + 0.011*\"主题\" + 0.009*\"技术\" + 0.009*\"应用\" + 0.008*\"提出\" + 0.008*\"语义\" + 0.007*\"信息\" + 0.007*\"方面\" + 0.007*\"问题\" + 0.006*\"关联\" + 0.006*\"学科\" + 0.006*\"相关\"')\n",
      "(2, '0.043*\"信息\" + 0.026*\"档案\" + 0.020*\"资源\" + 0.018*\"文化\" + 0.015*\"政府\" + 0.011*\"社会\" + 0.011*\"图书馆\" + 0.009*\"智库\" + 0.008*\"方面\" + 0.007*\"政策\" + 0.007*\"提出\" + 0.007*\"机制\" + 0.007*\"制度\" + 0.006*\"问题\" + 0.006*\"中国\" + 0.006*\"模式\" + 0.006*\"国家\" + 0.005*\"进行\" + 0.005*\"主体\" + 0.005*\"信息化\"')\n",
      "(3, '0.092*\"图书馆\" + 0.019*\"高校\" + 0.012*\"空间\" + 0.010*\"数字\" + 0.010*\"治理\" + 0.009*\"能力\" + 0.009*\"价值\" + 0.008*\"学科\" + 0.008*\"档案馆\" + 0.008*\"文化\" + 0.008*\"提出\" + 0.008*\"提供\" + 0.008*\"模式\" + 0.007*\"构建\" + 0.007*\"文章\" + 0.007*\"社会\" + 0.007*\"实践\" + 0.006*\"进行\" + 0.006*\"理论\" + 0.006*\"馆员\"')\n",
      "(4, '0.028*\"数据\" + 0.015*\"算法\" + 0.014*\"开放\" + 0.013*\"进行\" + 0.013*\"政策\" + 0.011*\"方法\" + 0.011*\"问题\" + 0.010*\"提出\" + 0.010*\"保护\" + 0.008*\"网站\" + 0.008*\"城市\" + 0.007*\"政府\" + 0.007*\"推荐\" + 0.006*\"分类\" + 0.006*\"科技\" + 0.006*\"用户\" + 0.005*\"口述\" + 0.005*\"相关\" + 0.005*\"系统\" + 0.004*\"利用\"')\n",
      "(5, '0.020*\"中国\" + 0.015*\"文献\" + 0.013*\"档案\" + 0.011*\"历史\" + 0.010*\"有\" + 0.008*\"民族\" + 0.008*\"文化\" + 0.007*\"文件\" + 0.007*\"电子\" + 0.007*\"价值\" + 0.006*\"古籍\" + 0.006*\"进行\" + 0.005*\"保护\" + 0.005*\"具有\" + 0.005*\"方法\" + 0.005*\"文档\" + 0.005*\"名词\" + 0.005*\"词\" + 0.005*\"档案学\" + 0.004*\"图书馆\"')\n",
      "(6, '0.089*\"知识\" + 0.025*\"企业\" + 0.018*\"创新\" + 0.013*\"技术\" + 0.013*\"转移\" + 0.012*\"专利\" + 0.012*\"组织\" + 0.010*\"进行\" + 0.008*\"提出\" + 0.008*\"理论\" + 0.008*\"共享\" + 0.007*\"模式\" + 0.007*\"网络\" + 0.007*\"构建\" + 0.007*\"关系\" + 0.006*\"协同\" + 0.006*\"基础\" + 0.006*\"过程\" + 0.006*\"产业\" + 0.006*\"模型\"')\n",
      "(array([[ 0.14324614, 26.24898   ,  0.14337704, ...,  0.14318912,\n",
      "         0.14337718,  0.14341623],\n",
      "       [ 2.6157703 ,  5.5811863 , 27.940275  , ..., 35.591778  ,\n",
      "         0.1433247 ,  0.1436867 ],\n",
      "       [ 0.1430929 ,  0.14319034,  0.14302705, ...,  0.14305054,\n",
      "        53.30967   ,  0.14304422],\n",
      "       ...,\n",
      "       [39.721603  , 11.324705  ,  0.1431572 , ...,  0.14337894,\n",
      "         0.14312324,  0.1432285 ],\n",
      "       [28.702093  ,  4.0956655 ,  0.14312027, ...,  1.6012049 ,\n",
      "         0.14331706,  0.14328355],\n",
      "       [19.807924  ,  0.14344764, 22.785591  , ...,  0.14323004,\n",
      "         2.3745637 ,  1.5803939 ]], dtype=float32), None)\n",
      "214.46321282540768\n"
     ]
    },
    {
     "data": {
      "image/png": "[encoded data removed]",
      "text/plain": [
       "<Figure size 432x288 with 1 Axes>"
      ]
     },
     "metadata": {
      "needs_background": "light"
     },
     "output_type": "display_data"
    },
    {
     "name": "stdout",
     "output_type": "stream",
     "text": [
      "162.50134444236755 s\n"
     ]
    }
   ],
   "source": [
    "from gensim import corpora, models\n",
    "import jieba.posseg as jp, jieba\n",
    "from matplotlib import pyplot as plt\n",
    "import time\n",
    "start=time.time()\n",
    "\n",
    "texts = content\n",
    "#coding:utf-8\n",
    "flags = ('n','nr','ns','nt','eng','v','d')  #词性\n",
    "stopwords = ('没','就','是','不','the','of','to','and','包','也','引')           #加载一些常用的停用词\n",
    "\n",
    "words_ls=[]   #分词\n",
    "for text in texts:\n",
    "    words = [w.word for w in jp.cut(text) if w.flag in flags and w.word not in stopwords]\n",
    "    words_ls.append(words)\n",
    "    \n",
    "dictionary = corpora.Dictionary(words_ls)   #构造词典\n",
    "\n",
    "corpus = [dictionary.doc2bow(words) for words in words_ls]\n",
    "topic_nums=list(range(1,8))\n",
    "perplexity_list=[]\n",
    "#lda模型，num_topics设置主题个数h\n",
    "for topic_num in topic_nums:\n",
    "    lda = models.ldamodel.LdaModel(corpus=corpus,id2word=dictionary,num_topics=topic_num) \n",
    "    perplexity=np.exp2(-lda.log_perplexity(corpus))\n",
    "    #打印所有主题，每个主题显示几个词\n",
    "    for topic in lda.print_topics(num_words=20):\n",
    "        print(topic)\n",
    "    #主题推断\n",
    "    print(lda.inference(corpus))\n",
    "    print(perplexity)\n",
    "    perplexity_list.append(perplexity)\n",
    "plt.rcParams['font.sans-serif']=['SimHei']\n",
    "def graph_draw(topic, perplexity):  # 做主题数与困惑度的折线图\n",
    "    x = topic\n",
    "    y = perplexity\n",
    "    plt.plot(x, y, color=\"red\", linewidth=2)\n",
    "    plt.xlabel(\"Number of Topic\")\n",
    "    plt.ylabel(\"Perplexity\")\n",
    "    plt.show()\n",
    "    plt.title('不同主题数目下困惑度变化值')\n",
    "plt.plot(topic_nums,perplexity_list)\n",
    "plt.show()\n",
    "end=time.time()\n",
    "print(end-start,'s')"
   ]
  },
  {
   "cell_type": "code",
   "execution_count": null,
   "metadata": {},
   "outputs": [],
   "source": []
  }
 ],
 "metadata": {
  "kernelspec": {
   "display_name": "Python 3",
   "language": "python",
   "name": "python3"
  },
  "language_info": {
   "codemirror_mode": {
    "name": "ipython",
    "version": 3
   },
   "file_extension": ".py",
   "mimetype": "text/x-python",
   "name": "python",
   "nbconvert_exporter": "python",
   "pygments_lexer": "ipython3",
   "version": "3.7.6"
  }
 },
 "nbformat": 4,
 "nbformat_minor": 4
}
